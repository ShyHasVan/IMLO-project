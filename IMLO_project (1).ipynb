{
  "nbformat": 4,
  "nbformat_minor": 0,
  "metadata": {
    "colab": {
      "provenance": [],
      "machine_shape": "hm",
      "gpuType": "T4"
    },
    "kernelspec": {
      "name": "python3",
      "display_name": "Python 3"
    },
    "language_info": {
      "name": "python"
    },
    "accelerator": "GPU",
    "vp": {
      "vp_note_display": false,
      "vp_note_width": 0,
      "vp_section_display": false
    }
  },
  "cells": [
    {
      "cell_type": "code",
      "execution_count": null,
      "metadata": {
        "id": "agGjl24Vl-Db"
      },
      "outputs": [],
      "source": [
        "import torch\n",
        "from torch.utils.data import Dataset\n",
        "from torchvision import datasets\n",
        "from torchvision.transforms import transforms\n",
        "import torch.nn as nn\n",
        "import torch.nn.functional as F\n",
        "import torch.optim as optim\n",
        "import time"
      ]
    },
    {
      "cell_type": "code",
      "source": [
        "custom_transform = transforms.Compose([\n",
        "    transforms.Resize((224, 224)),\n",
        "    transforms.RandomHorizontalFlip(),\n",
        "    transforms.RandomRotation(30),\n",
        "    transforms.RandomAffine(degrees=30, translate=(0.1, 0.1), scale=(0.8, 1.2)),\n",
        "    transforms.ToTensor(),\n",
        "    transforms.Normalize((0.485, 0.456, 0.406), (0.229, 0.224, 0.225))\n",
        "])\n",
        "\n",
        "training_data = datasets.Flowers102(\n",
        "    root=\"data\",\n",
        "    split=\"train\",\n",
        "    download=True,\n",
        "    transform=custom_transform,\n",
        ")\n",
        "\n",
        "train_dataloader = torch.utils.data.DataLoader(training_data, batch_size=64, shuffle=True)\n",
        "\n",
        "val_data = datasets.Flowers102(\n",
        "    root=\"data\",\n",
        "    split=\"val\",\n",
        "    download=True,\n",
        "    transform=transforms.Compose([\n",
        "        transforms.Resize((224, 224)),\n",
        "        transforms.ToTensor(),\n",
        "        transforms.Normalize((0.485, 0.456, 0.406), (0.229, 0.224, 0.225))\n",
        "    ]),\n",
        ")\n",
        "\n",
        "val_dataloader = torch.utils.data.DataLoader(val_data, batch_size=64, shuffle=False)\n",
        "\n",
        "\n",
        "device = torch.device(\"cuda\" if torch.cuda.is_available() else \"cpu\")"
      ],
      "metadata": {
        "id": "RugIZdlxmGZ4",
        "colab": {
          "base_uri": "https://localhost:8080/"
        },
        "outputId": "359117ad-be2c-4d22-d1c0-f697562740fb"
      },
      "execution_count": null,
      "outputs": [
        {
          "output_type": "stream",
          "name": "stdout",
          "text": [
            "Downloading https://thor.robots.ox.ac.uk/datasets/flowers-102/102flowers.tgz to data/flowers-102/102flowers.tgz\n"
          ]
        },
        {
          "output_type": "stream",
          "name": "stderr",
          "text": [
            "100%|██████████| 344862509/344862509 [00:24<00:00, 14328988.23it/s]\n"
          ]
        },
        {
          "output_type": "stream",
          "name": "stdout",
          "text": [
            "Extracting data/flowers-102/102flowers.tgz to data/flowers-102\n",
            "Downloading https://thor.robots.ox.ac.uk/datasets/flowers-102/imagelabels.mat to data/flowers-102/imagelabels.mat\n"
          ]
        },
        {
          "output_type": "stream",
          "name": "stderr",
          "text": [
            "100%|██████████| 502/502 [00:00<00:00, 567684.18it/s]\n"
          ]
        },
        {
          "output_type": "stream",
          "name": "stdout",
          "text": [
            "Downloading https://thor.robots.ox.ac.uk/datasets/flowers-102/setid.mat to data/flowers-102/setid.mat\n"
          ]
        },
        {
          "output_type": "stream",
          "name": "stderr",
          "text": [
            "100%|██████████| 14989/14989 [00:00<00:00, 14775187.46it/s]\n"
          ]
        }
      ]
    },
    {
      "cell_type": "code",
      "source": [
        "class NeuralNetwork(nn.Module):\n",
        "    def __init__(self):\n",
        "        super().__init__()\n",
        "        self.conv1 = nn.Conv2d(3, 64, kernel_size=3, padding=1)\n",
        "        self.bn1 = nn.BatchNorm2d(64)\n",
        "        self.conv2 = nn.Conv2d(64, 128, kernel_size=3, padding=1)\n",
        "        self.bn2 = nn.BatchNorm2d(128)\n",
        "        self.conv3 = nn.Conv2d(128, 256, kernel_size=3, padding=1)\n",
        "        self.bn3 = nn.BatchNorm2d(256)\n",
        "        self.fc1 = nn.Linear(256 * 28 * 28, 1024)\n",
        "        self.bn4 = nn.BatchNorm1d(1024)\n",
        "        self.fc2 = nn.Linear(1024, 512)\n",
        "        self.bn5 = nn.BatchNorm1d(512)\n",
        "        self.fc3 = nn.Linear(512, 102)\n",
        "\n",
        "    def forward(self, x):\n",
        "        x = F.relu(self.bn1(self.conv1(x)))\n",
        "        x = F.max_pool2d(x, kernel_size=2, stride=2)\n",
        "        x = F.relu(self.bn2(self.conv2(x)))\n",
        "        x = F.max_pool2d(x, kernel_size=2, stride=2)\n",
        "        x = F.relu(self.bn3(self.conv3(x)))\n",
        "        x = F.max_pool2d(x, kernel_size=2, stride=2)\n",
        "\n",
        "        x = x.view(-1, 256 * 28 * 28)\n",
        "\n",
        "        x = F.relu(self.bn4(self.fc1(x)))\n",
        "        x = F.relu(self.bn5(self.fc2(x)))\n",
        "        x = self.fc3(x)\n",
        "\n",
        "        return F.log_softmax(x, dim=1)\n",
        "\n",
        "model = NeuralNetwork().to(device)\n"
      ],
      "metadata": {
        "id": "wxsSqtaxmUBt"
      },
      "execution_count": null,
      "outputs": []
    },
    {
      "cell_type": "code",
      "source": [
        "\n",
        "loss_fn = nn.CrossEntropyLoss()\n",
        "optimizer = optim.Adam(model.parameters(), lr=0.0001)\n",
        "\n",
        "# Learning rate scheduler\n",
        "scheduler = optim.lr_scheduler.ReduceLROnPlateau(optimizer, mode='min', factor=0.5, patience=5)\n"
      ],
      "metadata": {
        "id": "VZzUiOqrnCso"
      },
      "execution_count": null,
      "outputs": []
    },
    {
      "cell_type": "code",
      "source": [
        "# Training loop\n",
        "def train_loop(dataloader, model, loss_fn, optimizer, device):\n",
        "    model.train()\n",
        "    running_loss = 0.0\n",
        "    for X, y in dataloader:\n",
        "        X, y = X.to(device), y.to(device)\n",
        "        optimizer.zero_grad()\n",
        "        outputs = model(X)\n",
        "        loss = loss_fn(outputs, y)\n",
        "        loss.backward()\n",
        "        optimizer.step()\n",
        "        running_loss += loss.item() * X.size(0)\n",
        "    epoch_loss = running_loss / len(dataloader.dataset)\n",
        "    return epoch_loss\n",
        "\n",
        "# Validation loop\n",
        "def val_loop(dataloader, model, loss_fn, device):\n",
        "    model.eval()\n",
        "    val_loss, correct = 0, 0\n",
        "    with torch.no_grad():\n",
        "        for X, y in dataloader:\n",
        "            X, y = X.to(device), y.to(device)\n",
        "            pred = model(X)\n",
        "            val_loss += loss_fn(pred, y).item()\n",
        "            correct += (pred.argmax(1) == y).type(torch.float).sum().item()\n",
        "    val_loss /= len(dataloader)\n",
        "    correct /= len(dataloader.dataset)\n",
        "    return val_loss, correct * 100\n"
      ],
      "metadata": {
        "id": "lgNwIB9ynH1j"
      },
      "execution_count": null,
      "outputs": []
    },
    {
      "cell_type": "code",
      "source": [
        "# Training\n",
        "epochs = 100\n",
        "start = time.time()\n",
        "best_val_loss = float('inf')\n",
        "patience = 3\n",
        "counter = 0\n",
        "\n",
        "for epoch in range(epochs):\n",
        "    print(f\"Epoch {epoch+1}/{epochs}\")\n",
        "    train_loss = train_loop(train_dataloader, model, loss_fn, optimizer, device)\n",
        "    val_loss, val_accuracy = val_loop(val_dataloader, model, loss_fn, device)\n",
        "\n",
        "    print(f\"Train Loss: {train_loss:.4f}, Val Loss: {val_loss:.4f}, Val Accuracy: {val_accuracy:.2f}\")\n",
        "\n",
        "    # Adjust learning rate based on validation loss\n",
        "    scheduler.step(val_loss)\n",
        "\n",
        "    # Early stopping\n",
        "    if val_loss < best_val_loss:\n",
        "        best_val_loss = val_loss\n",
        "        counter = 0\n",
        "    else:\n",
        "        counter += 1\n",
        "        if counter >= patience:\n",
        "            print(\"Early stopping\")\n",
        "            break\n",
        "\n",
        "end = time.time()\n",
        "print(f\"Training took: {(end - start) / 60:.2f} minutes!\")"
      ],
      "metadata": {
        "colab": {
          "base_uri": "https://localhost:8080/"
        },
        "id": "KXISD-xRnYKw",
        "outputId": "615423cf-973f-44aa-c800-5621c5a13a56"
      },
      "execution_count": null,
      "outputs": [
        {
          "output_type": "stream",
          "name": "stdout",
          "text": [
            "Epoch 1/100\n",
            "Train Loss: 4.3666, Val Loss: 4.4486, Val Accuracy: 4.41\n",
            "Epoch 2/100\n",
            "Train Loss: 3.8393, Val Loss: 4.0783, Val Accuracy: 10.49\n",
            "Epoch 3/100\n",
            "Train Loss: 3.5165, Val Loss: 3.7547, Val Accuracy: 19.71\n",
            "Epoch 4/100\n",
            "Train Loss: 3.2505, Val Loss: 3.4615, Val Accuracy: 24.22\n",
            "Epoch 5/100\n",
            "Train Loss: 2.9913, Val Loss: 3.2516, Val Accuracy: 30.78\n",
            "Epoch 6/100\n",
            "Train Loss: 2.7889, Val Loss: 3.1409, Val Accuracy: 32.94\n",
            "Epoch 7/100\n",
            "Train Loss: 2.6018, Val Loss: 2.9808, Val Accuracy: 36.86\n",
            "Epoch 8/100\n",
            "Train Loss: 2.4413, Val Loss: 2.8897, Val Accuracy: 36.86\n",
            "Epoch 9/100\n",
            "Train Loss: 2.2670, Val Loss: 2.8730, Val Accuracy: 39.12\n",
            "Epoch 10/100\n",
            "Train Loss: 2.1267, Val Loss: 2.7545, Val Accuracy: 40.00\n",
            "Epoch 11/100\n",
            "Train Loss: 2.0167, Val Loss: 2.6685, Val Accuracy: 41.96\n",
            "Epoch 12/100\n",
            "Train Loss: 1.8853, Val Loss: 2.6894, Val Accuracy: 42.65\n",
            "Epoch 13/100\n",
            "Train Loss: 1.7741, Val Loss: 2.6178, Val Accuracy: 43.24\n",
            "Epoch 14/100\n",
            "Train Loss: 1.6593, Val Loss: 2.5276, Val Accuracy: 44.41\n",
            "Epoch 15/100\n",
            "Train Loss: 1.5540, Val Loss: 2.5120, Val Accuracy: 45.49\n",
            "Epoch 16/100\n",
            "Train Loss: 1.4691, Val Loss: 2.4732, Val Accuracy: 45.49\n",
            "Epoch 17/100\n",
            "Train Loss: 1.4322, Val Loss: 2.4729, Val Accuracy: 44.71\n",
            "Epoch 18/100\n",
            "Train Loss: 1.3116, Val Loss: 2.4238, Val Accuracy: 46.18\n",
            "Epoch 19/100\n",
            "Train Loss: 1.2565, Val Loss: 2.3900, Val Accuracy: 47.16\n",
            "Epoch 20/100\n",
            "Train Loss: 1.1999, Val Loss: 2.3929, Val Accuracy: 46.67\n",
            "Epoch 21/100\n",
            "Train Loss: 1.1091, Val Loss: 2.3400, Val Accuracy: 48.04\n",
            "Epoch 22/100\n",
            "Train Loss: 1.0158, Val Loss: 2.3597, Val Accuracy: 46.86\n",
            "Epoch 23/100\n",
            "Train Loss: 0.9976, Val Loss: 2.3161, Val Accuracy: 47.75\n",
            "Epoch 24/100\n",
            "Train Loss: 0.9440, Val Loss: 2.3194, Val Accuracy: 48.04\n",
            "Epoch 25/100\n",
            "Train Loss: 0.8751, Val Loss: 2.2363, Val Accuracy: 48.82\n",
            "Epoch 26/100\n",
            "Train Loss: 0.7827, Val Loss: 2.3076, Val Accuracy: 46.76\n",
            "Epoch 27/100\n",
            "Train Loss: 0.7853, Val Loss: 2.2192, Val Accuracy: 50.10\n",
            "Epoch 28/100\n",
            "Train Loss: 0.7045, Val Loss: 2.1924, Val Accuracy: 50.29\n",
            "Epoch 29/100\n",
            "Train Loss: 0.6597, Val Loss: 2.2431, Val Accuracy: 49.02\n",
            "Epoch 30/100\n",
            "Train Loss: 0.6337, Val Loss: 2.2081, Val Accuracy: 50.29\n",
            "Epoch 31/100\n",
            "Train Loss: 0.5883, Val Loss: 2.1714, Val Accuracy: 50.59\n",
            "Epoch 32/100\n",
            "Train Loss: 0.5435, Val Loss: 2.1681, Val Accuracy: 49.71\n",
            "Epoch 33/100\n",
            "Train Loss: 0.5240, Val Loss: 2.1596, Val Accuracy: 50.29\n",
            "Epoch 34/100\n",
            "Train Loss: 0.4945, Val Loss: 2.1474, Val Accuracy: 50.49\n",
            "Epoch 35/100\n",
            "Train Loss: 0.4630, Val Loss: 2.1637, Val Accuracy: 50.10\n",
            "Epoch 36/100\n",
            "Train Loss: 0.4296, Val Loss: 2.1189, Val Accuracy: 50.49\n",
            "Epoch 37/100\n",
            "Train Loss: 0.4115, Val Loss: 2.1288, Val Accuracy: 51.27\n",
            "Epoch 38/100\n",
            "Train Loss: 0.4002, Val Loss: 2.1322, Val Accuracy: 50.49\n",
            "Epoch 39/100\n",
            "Train Loss: 0.3903, Val Loss: 2.1276, Val Accuracy: 51.18\n",
            "Epoch 40/100\n",
            "Train Loss: 0.3572, Val Loss: 2.0888, Val Accuracy: 51.37\n",
            "Epoch 41/100\n",
            "Train Loss: 0.3299, Val Loss: 2.0943, Val Accuracy: 51.67\n",
            "Epoch 42/100\n",
            "Train Loss: 0.3298, Val Loss: 2.0981, Val Accuracy: 51.37\n",
            "Epoch 43/100\n",
            "Train Loss: 0.2952, Val Loss: 2.0882, Val Accuracy: 50.39\n",
            "Epoch 44/100\n",
            "Train Loss: 0.2831, Val Loss: 2.0773, Val Accuracy: 51.18\n",
            "Epoch 45/100\n",
            "Train Loss: 0.2817, Val Loss: 2.0873, Val Accuracy: 51.18\n",
            "Epoch 46/100\n",
            "Train Loss: 0.2648, Val Loss: 2.0817, Val Accuracy: 50.88\n",
            "Epoch 47/100\n",
            "Train Loss: 0.2529, Val Loss: 2.0864, Val Accuracy: 51.08\n",
            "Epoch 48/100\n",
            "Train Loss: 0.2253, Val Loss: 2.0428, Val Accuracy: 51.86\n",
            "Epoch 49/100\n",
            "Train Loss: 0.2357, Val Loss: 2.0667, Val Accuracy: 50.29\n",
            "Epoch 50/100\n",
            "Train Loss: 0.2054, Val Loss: 2.0898, Val Accuracy: 50.59\n",
            "Epoch 51/100\n",
            "Train Loss: 0.2082, Val Loss: 2.0557, Val Accuracy: 51.67\n",
            "Epoch 52/100\n",
            "Train Loss: 0.1887, Val Loss: 2.0317, Val Accuracy: 51.67\n",
            "Epoch 53/100\n",
            "Train Loss: 0.1865, Val Loss: 2.0537, Val Accuracy: 52.35\n",
            "Epoch 54/100\n",
            "Train Loss: 0.1912, Val Loss: 2.0467, Val Accuracy: 50.78\n",
            "Epoch 55/100\n",
            "Train Loss: 0.1774, Val Loss: 2.0125, Val Accuracy: 52.65\n",
            "Epoch 56/100\n",
            "Train Loss: 0.1719, Val Loss: 2.0528, Val Accuracy: 51.57\n",
            "Epoch 57/100\n",
            "Train Loss: 0.1673, Val Loss: 2.0103, Val Accuracy: 52.16\n",
            "Epoch 58/100\n",
            "Train Loss: 0.1571, Val Loss: 2.0158, Val Accuracy: 51.86\n",
            "Epoch 59/100\n",
            "Train Loss: 0.1535, Val Loss: 2.0316, Val Accuracy: 52.16\n",
            "Epoch 60/100\n",
            "Train Loss: 0.1563, Val Loss: 2.0495, Val Accuracy: 51.86\n",
            "Epoch 61/100\n",
            "Train Loss: 0.1523, Val Loss: 2.0413, Val Accuracy: 52.75\n",
            "Epoch 62/100\n",
            "Train Loss: 0.1340, Val Loss: 2.0090, Val Accuracy: 51.47\n",
            "Epoch 63/100\n",
            "Train Loss: 0.1364, Val Loss: 2.0466, Val Accuracy: 51.47\n",
            "Epoch 64/100\n",
            "Train Loss: 0.1342, Val Loss: 2.0215, Val Accuracy: 52.16\n",
            "Epoch 65/100\n",
            "Train Loss: 0.1173, Val Loss: 2.0377, Val Accuracy: 51.86\n",
            "Epoch 66/100\n",
            "Train Loss: 0.1235, Val Loss: 2.0330, Val Accuracy: 52.65\n",
            "Epoch 67/100\n",
            "Train Loss: 0.1126, Val Loss: 2.0129, Val Accuracy: 52.75\n",
            "Early stopping\n",
            "Training took: 20.27 minutes!\n"
          ]
        }
      ]
    }
  ]
}