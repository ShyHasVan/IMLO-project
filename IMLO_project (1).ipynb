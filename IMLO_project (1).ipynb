{
  "cells": [
    {
      "cell_type": "code",
      "execution_count": null,
      "metadata": {
        "id": "agGjl24Vl-Db"
      },
      "outputs": [],
      "source": [
        "import torch\n",
        "from torch.utils.data import Dataset\n",
        "from torchvision import datasets\n",
        "from torchvision.transforms import transforms\n",
        "import torch.nn as nn\n",
        "import torch.nn.functional as F\n",
        "import torch.optim as optim\n",
        "import time"
      ]
    },
    {
      "cell_type": "code",
      "execution_count": null,
      "metadata": {
        "id": "RugIZdlxmGZ4",
        "colab": {
          "base_uri": "https://localhost:8080/"
        },
        "outputId": "61eb38f3-abda-4f2a-b935-c74b741381a0"
      },
      "outputs": [
        {
          "output_type": "stream",
          "name": "stdout",
          "text": [
            "Downloading https://thor.robots.ox.ac.uk/datasets/flowers-102/102flowers.tgz to data/flowers-102/102flowers.tgz\n"
          ]
        },
        {
          "output_type": "stream",
          "name": "stderr",
          "text": [
            "100%|██████████| 344862509/344862509 [00:10<00:00, 31370328.99it/s]\n"
          ]
        },
        {
          "output_type": "stream",
          "name": "stdout",
          "text": [
            "Extracting data/flowers-102/102flowers.tgz to data/flowers-102\n",
            "Downloading https://thor.robots.ox.ac.uk/datasets/flowers-102/imagelabels.mat to data/flowers-102/imagelabels.mat\n"
          ]
        },
        {
          "output_type": "stream",
          "name": "stderr",
          "text": [
            "100%|██████████| 502/502 [00:00<00:00, 1186220.06it/s]\n"
          ]
        },
        {
          "output_type": "stream",
          "name": "stdout",
          "text": [
            "Downloading https://thor.robots.ox.ac.uk/datasets/flowers-102/setid.mat to data/flowers-102/setid.mat\n"
          ]
        },
        {
          "output_type": "stream",
          "name": "stderr",
          "text": [
            "100%|██████████| 14989/14989 [00:00<00:00, 18913484.55it/s]\n"
          ]
        }
      ],
      "source": [
        "custom_transform = transforms.Compose([\n",
        "    transforms.Resize((224, 224)),\n",
        "    transforms.RandomHorizontalFlip(),  # Randomly flip the image horizontally\n",
        "    transforms.RandomRotation(30),  # Randomly rotate the image by up to 30 degrees\n",
        "    transforms.ColorJitter(brightness=0.2, contrast=0.2, saturation=0.2, hue=0.1),  # Adjust brightness, contrast, saturation, and hue\n",
        "    transforms.RandomAffine(degrees=0, translate=(0.1, 0.1)),  # Randomly translate the image\n",
        "    transforms.ToTensor(),  # Convert the image to a PyTorch tensor\n",
        "    transforms.Normalize((0.485, 0.456, 0.406), (0.229, 0.224, 0.225))  # Normalize the image\n",
        "])\n",
        "\n",
        "training_data = datasets.Flowers102(\n",
        "    root=\"data\",\n",
        "    split=\"train\",\n",
        "    download=True,\n",
        "    transform=custom_transform,\n",
        ")\n",
        "\n",
        "train_dataloader = torch.utils.data.DataLoader(training_data, batch_size=64, shuffle=True)\n",
        "\n",
        "val_data = datasets.Flowers102(\n",
        "    root=\"data\",\n",
        "    split=\"val\",\n",
        "    download=True,\n",
        "    transform=transforms.Compose([\n",
        "        transforms.Resize((224, 224)),\n",
        "        transforms.ToTensor(),\n",
        "        transforms.Normalize((0.485, 0.456, 0.406), (0.229, 0.224, 0.225))  # Normalize the image\n",
        "]),\n",
        ")\n",
        "\n",
        "val_dataloader = torch.utils.data.DataLoader(val_data, batch_size=64, shuffle=False)\n",
        "\n",
        "\n",
        "device = torch.device(\"cuda\" if torch.cuda.is_available() else \"cpu\")"
      ]
    },
    {
      "cell_type": "code",
      "execution_count": null,
      "metadata": {
        "id": "wxsSqtaxmUBt"
      },
      "outputs": [],
      "source": [
        "class NeuralNetwork(nn.Module):\n",
        "    def __init__(self):\n",
        "        super().__init__()\n",
        "        self.conv1 = nn.Conv2d(3, 32, kernel_size=3, padding=1)\n",
        "        self.bn1 = nn.BatchNorm2d(32)\n",
        "        self.conv2 = nn.Conv2d(32, 64, kernel_size=3, padding=1)\n",
        "        self.bn2 = nn.BatchNorm2d(64)\n",
        "        self.conv3 = nn.Conv2d(64, 128, kernel_size=3, padding=1)\n",
        "        self.bn3 = nn.BatchNorm2d(128)\n",
        "        self.fc1 = nn.Linear(128 * 28 * 28, 512)\n",
        "        self.bn4 = nn.BatchNorm1d(512)\n",
        "        self.fc2 = nn.Linear(512, 256)\n",
        "        self.bn5 = nn.BatchNorm1d(256)\n",
        "        self.fc3 = nn.Linear(256, 102)\n",
        "\n",
        "    def forward(self, x):\n",
        "        x = F.relu(self.bn1(self.conv1(x)))\n",
        "        x = F.max_pool2d(x, kernel_size=2, stride=2)\n",
        "        x = F.relu(self.bn2(self.conv2(x)))\n",
        "        x = F.max_pool2d(x, kernel_size=2, stride=2)\n",
        "        x = F.relu(self.bn3(self.conv3(x)))\n",
        "        x = F.max_pool2d(x, kernel_size=2, stride=2)\n",
        "\n",
        "        x = x.view(-1, 128 * 28 * 28)\n",
        "\n",
        "        x = F.relu(self.bn4(self.fc1(x)))\n",
        "        x = F.relu(self.bn5(self.fc2(x)))\n",
        "        x = self.fc3(x)\n",
        "\n",
        "        return F.log_softmax(x, dim=1)\n",
        "\n",
        "\n",
        "model = NeuralNetwork().to(device)"
      ]
    },
    {
      "cell_type": "code",
      "execution_count": null,
      "metadata": {
        "id": "VZzUiOqrnCso"
      },
      "outputs": [],
      "source": [
        "\n",
        "loss_fn = nn.CrossEntropyLoss()\n",
        "optimizer = optim.Adam(model.parameters(), lr=0.0001)\n",
        "\n",
        "# Learning rate scheduler\n",
        "scheduler = optim.lr_scheduler.ReduceLROnPlateau(optimizer, mode='min', factor=0.5, patience=5)\n"
      ]
    },
    {
      "cell_type": "code",
      "execution_count": null,
      "metadata": {
        "id": "lgNwIB9ynH1j"
      },
      "outputs": [],
      "source": [
        "# Training loop\n",
        "def train_loop(dataloader, model, loss_fn, optimizer, device):\n",
        "    model.train()\n",
        "    running_loss = 0.0\n",
        "    for X, y in dataloader:\n",
        "        X, y = X.to(device), y.to(device)\n",
        "        optimizer.zero_grad()\n",
        "        outputs = model(X)\n",
        "        loss = loss_fn(outputs, y)\n",
        "        loss.backward()\n",
        "        optimizer.step()\n",
        "        running_loss += loss.item() * X.size(0)\n",
        "    epoch_loss = running_loss / len(dataloader.dataset)\n",
        "    return epoch_loss\n",
        "\n",
        "# Validation loop\n",
        "def val_loop(dataloader, model, loss_fn, device):\n",
        "    model.eval()\n",
        "    val_loss, correct = 0, 0\n",
        "    with torch.no_grad():\n",
        "        for X, y in dataloader:\n",
        "            X, y = X.to(device), y.to(device)\n",
        "            pred = model(X)\n",
        "            val_loss += loss_fn(pred, y).item()\n",
        "            correct += (pred.argmax(1) == y).type(torch.float).sum().item()\n",
        "    val_loss /= len(dataloader)\n",
        "    correct /= len(dataloader.dataset)\n",
        "    return val_loss, correct * 100\n"
      ]
    },
    {
      "cell_type": "code",
      "execution_count": null,
      "metadata": {
        "colab": {
          "background_save": true,
          "base_uri": "https://localhost:8080/"
        },
        "id": "KXISD-xRnYKw",
        "outputId": "5e8e5891-a4f3-49d1-96f2-33a3fc91cf8b"
      },
      "outputs": [
        {
          "output_type": "stream",
          "name": "stdout",
          "text": [
            "Epoch 1/100\n",
            "Train Loss: 4.5096, Val Loss: 4.5262, Val Accuracy: 3.82\n",
            "Epoch 2/100\n",
            "Train Loss: 4.2147, Val Loss: 4.2523, Val Accuracy: 9.71\n",
            "Epoch 3/100\n",
            "Train Loss: 4.0252, Val Loss: 4.0370, Val Accuracy: 13.24\n",
            "Epoch 4/100\n",
            "Train Loss: 3.8675, Val Loss: 3.8845, Val Accuracy: 18.53\n",
            "Epoch 5/100\n",
            "Train Loss: 3.7229, Val Loss: 3.7432, Val Accuracy: 21.27\n",
            "Epoch 6/100\n",
            "Train Loss: 3.6106, Val Loss: 3.6409, Val Accuracy: 24.51\n",
            "Epoch 7/100\n",
            "Train Loss: 3.4654, Val Loss: 3.5417, Val Accuracy: 26.18\n",
            "Epoch 8/100\n",
            "Train Loss: 3.3786, Val Loss: 3.4500, Val Accuracy: 28.33\n",
            "Epoch 9/100\n",
            "Train Loss: 3.2684, Val Loss: 3.3901, Val Accuracy: 29.02\n",
            "Epoch 10/100\n",
            "Train Loss: 3.1698, Val Loss: 3.3524, Val Accuracy: 30.49\n",
            "Epoch 11/100\n",
            "Train Loss: 3.1087, Val Loss: 3.2704, Val Accuracy: 31.27\n",
            "Epoch 12/100\n",
            "Train Loss: 3.0455, Val Loss: 3.2183, Val Accuracy: 33.63\n",
            "Epoch 13/100\n",
            "Train Loss: 2.9642, Val Loss: 3.1726, Val Accuracy: 33.24\n",
            "Epoch 14/100\n",
            "Train Loss: 2.8960, Val Loss: 3.1098, Val Accuracy: 35.49\n",
            "Epoch 15/100\n",
            "Train Loss: 2.8193, Val Loss: 3.1120, Val Accuracy: 34.80\n",
            "Epoch 16/100\n",
            "Train Loss: 2.7388, Val Loss: 3.0149, Val Accuracy: 35.59\n",
            "Epoch 17/100\n",
            "Train Loss: 2.6787, Val Loss: 3.0171, Val Accuracy: 35.78\n",
            "Epoch 18/100\n",
            "Train Loss: 2.6074, Val Loss: 2.9598, Val Accuracy: 37.06\n",
            "Epoch 19/100\n",
            "Train Loss: 2.5730, Val Loss: 2.9768, Val Accuracy: 37.06\n",
            "Epoch 20/100\n",
            "Train Loss: 2.5343, Val Loss: 2.9060, Val Accuracy: 37.94\n",
            "Epoch 21/100\n",
            "Train Loss: 2.4720, Val Loss: 2.8666, Val Accuracy: 40.00\n",
            "Epoch 22/100\n",
            "Train Loss: 2.4031, Val Loss: 2.8619, Val Accuracy: 38.92\n",
            "Epoch 23/100\n",
            "Train Loss: 2.3533, Val Loss: 2.7964, Val Accuracy: 40.88\n",
            "Epoch 24/100\n",
            "Train Loss: 2.2910, Val Loss: 2.7756, Val Accuracy: 40.29\n",
            "Epoch 25/100\n",
            "Train Loss: 2.2293, Val Loss: 2.7982, Val Accuracy: 40.00\n",
            "Epoch 26/100\n",
            "Train Loss: 2.1847, Val Loss: 2.7223, Val Accuracy: 41.86\n",
            "Epoch 27/100\n",
            "Train Loss: 2.1231, Val Loss: 2.6914, Val Accuracy: 42.25\n",
            "Epoch 28/100\n",
            "Train Loss: 2.0618, Val Loss: 2.6724, Val Accuracy: 41.67\n",
            "Epoch 29/100\n",
            "Train Loss: 2.0458, Val Loss: 2.6839, Val Accuracy: 42.45\n",
            "Epoch 30/100\n",
            "Train Loss: 2.0308, Val Loss: 2.6363, Val Accuracy: 43.63\n",
            "Epoch 31/100\n",
            "Train Loss: 1.9526, Val Loss: 2.6216, Val Accuracy: 43.33\n",
            "Epoch 32/100\n",
            "Train Loss: 1.9192, Val Loss: 2.6235, Val Accuracy: 42.25\n",
            "Epoch 33/100\n",
            "Train Loss: 1.8718, Val Loss: 2.5511, Val Accuracy: 43.63\n",
            "Epoch 34/100\n",
            "Train Loss: 1.8379, Val Loss: 2.5985, Val Accuracy: 43.53\n",
            "Epoch 35/100\n",
            "Train Loss: 1.8052, Val Loss: 2.5335, Val Accuracy: 44.22\n",
            "Epoch 36/100\n",
            "Train Loss: 1.7640, Val Loss: 2.5125, Val Accuracy: 44.31\n",
            "Epoch 37/100\n",
            "Train Loss: 1.6729, Val Loss: 2.5346, Val Accuracy: 44.31\n",
            "Epoch 38/100\n",
            "Train Loss: 1.6963, Val Loss: 2.4901, Val Accuracy: 43.92\n",
            "Epoch 39/100\n",
            "Train Loss: 1.6001, Val Loss: 2.4543, Val Accuracy: 44.12\n",
            "Epoch 40/100\n",
            "Train Loss: 1.5917, Val Loss: 2.4907, Val Accuracy: 43.33\n",
            "Epoch 41/100\n",
            "Train Loss: 1.5873, Val Loss: 2.4800, Val Accuracy: 44.22\n",
            "Epoch 42/100\n",
            "Train Loss: 1.5317, Val Loss: 2.4461, Val Accuracy: 44.80\n",
            "Epoch 43/100\n",
            "Train Loss: 1.4764, Val Loss: 2.4415, Val Accuracy: 45.29\n",
            "Epoch 44/100\n",
            "Train Loss: 1.4320, Val Loss: 2.4136, Val Accuracy: 46.67\n",
            "Epoch 45/100\n",
            "Train Loss: 1.3943, Val Loss: 2.4215, Val Accuracy: 44.80\n",
            "Epoch 46/100\n",
            "Train Loss: 1.3567, Val Loss: 2.3599, Val Accuracy: 46.08\n",
            "Epoch 47/100\n",
            "Train Loss: 1.3268, Val Loss: 2.3420, Val Accuracy: 45.49\n",
            "Epoch 48/100\n",
            "Train Loss: 1.3432, Val Loss: 2.3682, Val Accuracy: 46.18\n",
            "Epoch 49/100\n",
            "Train Loss: 1.2820, Val Loss: 2.3484, Val Accuracy: 46.67\n",
            "Epoch 50/100\n",
            "Train Loss: 1.2200, Val Loss: 2.3278, Val Accuracy: 47.06\n",
            "Epoch 51/100\n",
            "Train Loss: 1.2377, Val Loss: 2.3141, Val Accuracy: 46.47\n",
            "Epoch 52/100\n",
            "Train Loss: 1.2157, Val Loss: 2.3050, Val Accuracy: 46.76\n",
            "Epoch 53/100\n",
            "Train Loss: 1.1604, Val Loss: 2.3076, Val Accuracy: 47.06\n",
            "Epoch 54/100\n",
            "Train Loss: 1.1294, Val Loss: 2.3079, Val Accuracy: 45.49\n",
            "Epoch 55/100\n",
            "Train Loss: 1.0964, Val Loss: 2.2922, Val Accuracy: 47.06\n",
            "Epoch 56/100\n",
            "Train Loss: 1.0823, Val Loss: 2.2830, Val Accuracy: 46.67\n",
            "Epoch 57/100\n",
            "Train Loss: 1.0470, Val Loss: 2.2880, Val Accuracy: 46.86\n",
            "Epoch 58/100\n",
            "Train Loss: 1.0575, Val Loss: 2.2684, Val Accuracy: 46.67\n",
            "Epoch 59/100\n",
            "Train Loss: 1.0017, Val Loss: 2.2623, Val Accuracy: 46.37\n",
            "Epoch 60/100\n",
            "Train Loss: 1.0048, Val Loss: 2.2398, Val Accuracy: 47.06\n",
            "Epoch 61/100\n"
          ]
        }
      ],
      "source": [
        "# Training\n",
        "epochs = 100\n",
        "start = time.time()\n",
        "best_val_loss = float('inf')\n",
        "patience = 5\n",
        "counter = 0\n",
        "\n",
        "for epoch in range(epochs):\n",
        "    print(f\"Epoch {epoch+1}/{epochs}\")\n",
        "    train_loss = train_loop(train_dataloader, model, loss_fn, optimizer, device)\n",
        "    val_loss, val_accuracy = val_loop(val_dataloader, model, loss_fn, device)\n",
        "\n",
        "    print(f\"Train Loss: {train_loss:.4f}, Val Loss: {val_loss:.4f}, Val Accuracy: {val_accuracy:.2f}\")\n",
        "\n",
        "    # Adjust learning rate based on validation loss\n",
        "    scheduler.step(val_loss)\n",
        "\n",
        "    # Early stopping\n",
        "    if val_loss < best_val_loss:\n",
        "        best_val_loss = val_loss\n",
        "        counter = 0\n",
        "    else:\n",
        "        counter += 1\n",
        "        if counter >= patience:\n",
        "            print(\"Early stopping\")\n",
        "            break\n",
        "\n",
        "end = time.time()\n",
        "print(f\"Training took: {(end - start) / 60:.2f} minutes!\")"
      ]
    }
  ],
  "metadata": {
    "accelerator": "GPU",
    "colab": {
      "gpuType": "T4",
      "machine_shape": "hm",
      "provenance": []
    },
    "kernelspec": {
      "display_name": "Python 3",
      "name": "python3"
    },
    "language_info": {
      "name": "python"
    },
    "vp": {
      "vp_note_display": false,
      "vp_note_width": 0,
      "vp_section_display": false
    }
  },
  "nbformat": 4,
  "nbformat_minor": 0
}