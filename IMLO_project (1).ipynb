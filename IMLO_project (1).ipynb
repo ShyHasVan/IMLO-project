{
  "cells": [
    {
      "cell_type": "code",
      "execution_count": null,
      "metadata": {
        "id": "agGjl24Vl-Db"
      },
      "outputs": [],
      "source": [
        "import torch\n",
        "from torch.utils.data import Dataset\n",
        "from torchvision import datasets\n",
        "from torchvision.transforms import transforms\n",
        "import torch.nn as nn\n",
        "import torch.nn.functional as F\n",
        "import torch.optim as optim\n",
        "import time"
      ]
    },
    {
      "cell_type": "code",
      "execution_count": null,
      "metadata": {
        "id": "RugIZdlxmGZ4",
        "colab": {
          "base_uri": "https://localhost:8080/"
        },
        "outputId": "30c0ac14-6b61-432e-9337-ec27b97ddbb8"
      },
      "outputs": [
        {
          "output_type": "stream",
          "name": "stdout",
          "text": [
            "Downloading https://thor.robots.ox.ac.uk/datasets/flowers-102/102flowers.tgz to data/flowers-102/102flowers.tgz\n"
          ]
        },
        {
          "output_type": "stream",
          "name": "stderr",
          "text": [
            "100%|██████████| 344862509/344862509 [00:01<00:00, 226894336.33it/s]\n"
          ]
        },
        {
          "output_type": "stream",
          "name": "stdout",
          "text": [
            "Extracting data/flowers-102/102flowers.tgz to data/flowers-102\n",
            "Downloading https://thor.robots.ox.ac.uk/datasets/flowers-102/imagelabels.mat to data/flowers-102/imagelabels.mat\n"
          ]
        },
        {
          "output_type": "stream",
          "name": "stderr",
          "text": [
            "100%|██████████| 502/502 [00:00<00:00, 1723028.32it/s]\n"
          ]
        },
        {
          "output_type": "stream",
          "name": "stdout",
          "text": [
            "Downloading https://thor.robots.ox.ac.uk/datasets/flowers-102/setid.mat to data/flowers-102/setid.mat\n"
          ]
        },
        {
          "output_type": "stream",
          "name": "stderr",
          "text": [
            "100%|██████████| 14989/14989 [00:00<00:00, 15831886.84it/s]\n"
          ]
        }
      ],
      "source": [
        "custom_transform = transforms.Compose([\n",
        "    transforms.Resize((224, 224)),\n",
        "    transforms.RandomHorizontalFlip(),  # Randomly flip the image horizontally\n",
        "    transforms.RandomRotation(30),  # Randomly rotate the image by up to 30 degrees\n",
        "    transforms.ColorJitter(brightness=0.2, contrast=0.2, saturation=0.2, hue=0.1),  # Adjust brightness, contrast, saturation, and hue\n",
        "    transforms.RandomAffine(degrees=0, translate=(0.1, 0.1)),  # Randomly translate the image\n",
        "    transforms.ToTensor(),  # Convert the image to a PyTorch tensor\n",
        "    transforms.Normalize((0.485, 0.456, 0.406), (0.229, 0.224, 0.225))  # Normalize the image\n",
        "])\n",
        "\n",
        "training_data = datasets.Flowers102(\n",
        "    root=\"data\",\n",
        "    split=\"train\",\n",
        "    download=True,\n",
        "    transform=custom_transform,\n",
        ")\n",
        "\n",
        "train_dataloader = torch.utils.data.DataLoader(training_data, batch_size=64, shuffle=True)\n",
        "\n",
        "val_data = datasets.Flowers102(\n",
        "    root=\"data\",\n",
        "    split=\"val\",\n",
        "    download=True,\n",
        "    transform=transforms.Compose([\n",
        "        transforms.Resize((224, 224)),\n",
        "        transforms.ToTensor(),\n",
        "        transforms.Normalize((0.485, 0.456, 0.406), (0.229, 0.224, 0.225))\n",
        "    ]),\n",
        ")\n",
        "\n",
        "val_dataloader = torch.utils.data.DataLoader(val_data, batch_size=64, shuffle=False)\n",
        "\n",
        "\n",
        "device = torch.device(\"cuda\" if torch.cuda.is_available() else \"cpu\")"
      ]
    },
    {
      "cell_type": "code",
      "execution_count": null,
      "metadata": {
        "id": "wxsSqtaxmUBt"
      },
      "outputs": [],
      "source": [
        "class NeuralNetwork(nn.Module):\n",
        "    def __init__(self):\n",
        "        super().__init__()\n",
        "        self.conv1 = nn.Conv2d(3, 64, kernel_size=3, padding=1)\n",
        "        self.bn1 = nn.BatchNorm2d(64)\n",
        "        self.conv2 = nn.Conv2d(64, 128, kernel_size=3, padding=1)\n",
        "        self.bn2 = nn.BatchNorm2d(128)\n",
        "        self.conv3 = nn.Conv2d(128, 256, kernel_size=3, padding=1)\n",
        "        self.bn3 = nn.BatchNorm2d(256)\n",
        "        self.fc1 = nn.Linear(256 * 28 * 28, 1024)\n",
        "        self.bn4 = nn.BatchNorm1d(1024)\n",
        "        self.fc2 = nn.Linear(1024, 512)\n",
        "        self.bn5 = nn.BatchNorm1d(512)\n",
        "        self.fc3 = nn.Linear(512, 102)\n",
        "\n",
        "    def forward(self, x):\n",
        "        x = F.relu(self.bn1(self.conv1(x)))\n",
        "        x = F.max_pool2d(x, kernel_size=2, stride=2)\n",
        "        x = F.relu(self.bn2(self.conv2(x)))\n",
        "        x = F.max_pool2d(x, kernel_size=2, stride=2)\n",
        "        x = F.relu(self.bn3(self.conv3(x)))\n",
        "        x = F.max_pool2d(x, kernel_size=2, stride=2)\n",
        "\n",
        "        x = x.view(-1, 256 * 28 * 28)\n",
        "\n",
        "        x = F.relu(self.bn4(self.fc1(x)))\n",
        "        x = F.relu(self.bn5(self.fc2(x)))\n",
        "        x = self.fc3(x)\n",
        "\n",
        "        return F.log_softmax(x, dim=1)\n",
        "\n",
        "\n",
        "model = NeuralNetwork().to(device)\n"
      ]
    },
    {
      "cell_type": "code",
      "execution_count": null,
      "metadata": {
        "id": "VZzUiOqrnCso"
      },
      "outputs": [],
      "source": [
        "\n",
        "loss_fn = nn.CrossEntropyLoss()\n",
        "optimizer = optim.Adam(model.parameters(), lr=0.0001)\n",
        "\n",
        "# Learning rate scheduler\n",
        "scheduler = optim.lr_scheduler.ReduceLROnPlateau(optimizer, mode='min', factor=0.5, patience=5)\n"
      ]
    },
    {
      "cell_type": "code",
      "execution_count": null,
      "metadata": {
        "id": "lgNwIB9ynH1j"
      },
      "outputs": [],
      "source": [
        "# Training loop\n",
        "def train_loop(dataloader, model, loss_fn, optimizer, device):\n",
        "    model.train()\n",
        "    running_loss = 0.0\n",
        "    for X, y in dataloader:\n",
        "        X, y = X.to(device), y.to(device)\n",
        "        optimizer.zero_grad()\n",
        "        outputs = model(X)\n",
        "        loss = loss_fn(outputs, y)\n",
        "        loss.backward()\n",
        "        optimizer.step()\n",
        "        running_loss += loss.item() * X.size(0)\n",
        "    epoch_loss = running_loss / len(dataloader.dataset)\n",
        "    return epoch_loss\n",
        "\n",
        "# Validation loop\n",
        "def val_loop(dataloader, model, loss_fn, device):\n",
        "    model.eval()\n",
        "    val_loss, correct = 0, 0\n",
        "    with torch.no_grad():\n",
        "        for X, y in dataloader:\n",
        "            X, y = X.to(device), y.to(device)\n",
        "            pred = model(X)\n",
        "            val_loss += loss_fn(pred, y).item()\n",
        "            correct += (pred.argmax(1) == y).type(torch.float).sum().item()\n",
        "    val_loss /= len(dataloader)\n",
        "    correct /= len(dataloader.dataset)\n",
        "    return val_loss, correct * 100\n"
      ]
    },
    {
      "cell_type": "code",
      "execution_count": null,
      "metadata": {
        "colab": {
          "base_uri": "https://localhost:8080/"
        },
        "id": "KXISD-xRnYKw",
        "outputId": "0d61d3dd-26be-4c64-f4c3-fc19f466d8c6"
      },
      "outputs": [
        {
          "output_type": "stream",
          "name": "stdout",
          "text": [
            "Epoch 1/100\n",
            "Train Loss: 4.6663, Val Loss: 4.5358, Val Accuracy: 4.22\n",
            "Epoch 2/100\n",
            "Train Loss: 4.4773, Val Loss: 4.3302, Val Accuracy: 8.73\n",
            "Epoch 3/100\n",
            "Train Loss: 4.3505, Val Loss: 4.1672, Val Accuracy: 9.90\n",
            "Epoch 4/100\n",
            "Train Loss: 4.1992, Val Loss: 4.0418, Val Accuracy: 15.20\n",
            "Epoch 5/100\n",
            "Train Loss: 4.0809, Val Loss: 3.9295, Val Accuracy: 19.51\n",
            "Epoch 6/100\n",
            "Train Loss: 3.9715, Val Loss: 3.8014, Val Accuracy: 20.78\n",
            "Epoch 7/100\n",
            "Train Loss: 3.8758, Val Loss: 3.7651, Val Accuracy: 21.47\n",
            "Epoch 8/100\n",
            "Train Loss: 3.7901, Val Loss: 3.6083, Val Accuracy: 25.20\n",
            "Epoch 9/100\n",
            "Train Loss: 3.7598, Val Loss: 3.5622, Val Accuracy: 24.61\n",
            "Epoch 10/100\n",
            "Train Loss: 3.6381, Val Loss: 3.5658, Val Accuracy: 25.98\n",
            "Epoch 11/100\n",
            "Train Loss: 3.5755, Val Loss: 3.4257, Val Accuracy: 27.06\n",
            "Epoch 12/100\n",
            "Train Loss: 3.5350, Val Loss: 3.3941, Val Accuracy: 27.75\n",
            "Epoch 13/100\n",
            "Train Loss: 3.4313, Val Loss: 3.3517, Val Accuracy: 28.92\n",
            "Epoch 14/100\n",
            "Train Loss: 3.3942, Val Loss: 3.2832, Val Accuracy: 29.02\n",
            "Epoch 15/100\n",
            "Train Loss: 3.3445, Val Loss: 3.2416, Val Accuracy: 30.10\n",
            "Epoch 16/100\n",
            "Train Loss: 3.2492, Val Loss: 3.2046, Val Accuracy: 31.18\n",
            "Epoch 17/100\n",
            "Train Loss: 3.1944, Val Loss: 3.1915, Val Accuracy: 30.78\n",
            "Epoch 18/100\n",
            "Train Loss: 3.1389, Val Loss: 3.1509, Val Accuracy: 30.78\n",
            "Epoch 19/100\n",
            "Train Loss: 3.1065, Val Loss: 3.1441, Val Accuracy: 31.57\n",
            "Epoch 20/100\n",
            "Train Loss: 3.0598, Val Loss: 3.0400, Val Accuracy: 32.65\n",
            "Epoch 21/100\n",
            "Train Loss: 2.9819, Val Loss: 3.0035, Val Accuracy: 35.20\n",
            "Epoch 22/100\n",
            "Train Loss: 3.0030, Val Loss: 2.9726, Val Accuracy: 34.80\n",
            "Epoch 23/100\n",
            "Train Loss: 2.9144, Val Loss: 2.9723, Val Accuracy: 35.69\n",
            "Epoch 24/100\n",
            "Train Loss: 2.8947, Val Loss: 2.9298, Val Accuracy: 35.78\n",
            "Epoch 25/100\n",
            "Train Loss: 2.8368, Val Loss: 2.8871, Val Accuracy: 36.76\n",
            "Epoch 26/100\n",
            "Train Loss: 2.7969, Val Loss: 2.8767, Val Accuracy: 37.25\n",
            "Epoch 27/100\n",
            "Train Loss: 2.7458, Val Loss: 2.8763, Val Accuracy: 36.76\n",
            "Epoch 28/100\n",
            "Train Loss: 2.6914, Val Loss: 2.8395, Val Accuracy: 37.65\n",
            "Epoch 29/100\n",
            "Train Loss: 2.6811, Val Loss: 2.7800, Val Accuracy: 39.51\n",
            "Epoch 30/100\n",
            "Train Loss: 2.6198, Val Loss: 2.8011, Val Accuracy: 37.84\n",
            "Epoch 31/100\n",
            "Train Loss: 2.6096, Val Loss: 2.7257, Val Accuracy: 39.41\n",
            "Epoch 32/100\n",
            "Train Loss: 2.5776, Val Loss: 2.7077, Val Accuracy: 40.10\n",
            "Epoch 33/100\n",
            "Train Loss: 2.4892, Val Loss: 2.6641, Val Accuracy: 39.90\n",
            "Epoch 34/100\n",
            "Train Loss: 2.4635, Val Loss: 2.6665, Val Accuracy: 39.02\n",
            "Epoch 35/100\n",
            "Train Loss: 2.4427, Val Loss: 2.6629, Val Accuracy: 39.22\n",
            "Epoch 36/100\n",
            "Train Loss: 2.3943, Val Loss: 2.6216, Val Accuracy: 40.88\n",
            "Epoch 37/100\n",
            "Train Loss: 2.3552, Val Loss: 2.6424, Val Accuracy: 40.49\n",
            "Epoch 38/100\n",
            "Train Loss: 2.3046, Val Loss: 2.5934, Val Accuracy: 40.88\n",
            "Epoch 39/100\n",
            "Train Loss: 2.2862, Val Loss: 2.5522, Val Accuracy: 41.96\n",
            "Epoch 40/100\n",
            "Train Loss: 2.2468, Val Loss: 2.4968, Val Accuracy: 41.86\n",
            "Epoch 41/100\n",
            "Train Loss: 2.2383, Val Loss: 2.5300, Val Accuracy: 42.75\n",
            "Epoch 42/100\n",
            "Train Loss: 2.1875, Val Loss: 2.5301, Val Accuracy: 41.27\n",
            "Epoch 43/100\n",
            "Train Loss: 2.1764, Val Loss: 2.4849, Val Accuracy: 43.24\n",
            "Epoch 44/100\n",
            "Train Loss: 2.1519, Val Loss: 2.4205, Val Accuracy: 43.63\n",
            "Epoch 45/100\n",
            "Train Loss: 2.0933, Val Loss: 2.5093, Val Accuracy: 42.06\n",
            "Epoch 46/100\n",
            "Train Loss: 2.0124, Val Loss: 2.4160, Val Accuracy: 44.02\n",
            "Epoch 47/100\n",
            "Train Loss: 2.0184, Val Loss: 2.3766, Val Accuracy: 45.00\n",
            "Epoch 48/100\n",
            "Train Loss: 1.9803, Val Loss: 2.3845, Val Accuracy: 45.39\n",
            "Epoch 49/100\n",
            "Train Loss: 1.9606, Val Loss: 2.3383, Val Accuracy: 44.80\n",
            "Epoch 50/100\n",
            "Train Loss: 1.9620, Val Loss: 2.3577, Val Accuracy: 46.37\n",
            "Epoch 51/100\n",
            "Train Loss: 1.9203, Val Loss: 2.3456, Val Accuracy: 47.16\n",
            "Epoch 52/100\n",
            "Train Loss: 1.8871, Val Loss: 2.2992, Val Accuracy: 45.88\n",
            "Epoch 53/100\n",
            "Train Loss: 1.8506, Val Loss: 2.2794, Val Accuracy: 45.49\n",
            "Epoch 54/100\n",
            "Train Loss: 1.8276, Val Loss: 2.3103, Val Accuracy: 45.69\n",
            "Epoch 55/100\n",
            "Train Loss: 1.7818, Val Loss: 2.2925, Val Accuracy: 46.86\n",
            "Epoch 56/100\n",
            "Train Loss: 1.7653, Val Loss: 2.2610, Val Accuracy: 47.45\n",
            "Epoch 57/100\n",
            "Train Loss: 1.7679, Val Loss: 2.2580, Val Accuracy: 47.25\n",
            "Epoch 58/100\n",
            "Train Loss: 1.7486, Val Loss: 2.2534, Val Accuracy: 48.92\n",
            "Epoch 59/100\n",
            "Train Loss: 1.6983, Val Loss: 2.2279, Val Accuracy: 48.33\n",
            "Epoch 60/100\n",
            "Train Loss: 1.6836, Val Loss: 2.1944, Val Accuracy: 47.94\n",
            "Epoch 61/100\n",
            "Train Loss: 1.6845, Val Loss: 2.2046, Val Accuracy: 49.02\n",
            "Epoch 62/100\n",
            "Train Loss: 1.6145, Val Loss: 2.2221, Val Accuracy: 48.82\n",
            "Epoch 63/100\n",
            "Train Loss: 1.6168, Val Loss: 2.1791, Val Accuracy: 50.29\n",
            "Epoch 64/100\n",
            "Train Loss: 1.5917, Val Loss: 2.2408, Val Accuracy: 48.24\n",
            "Epoch 65/100\n",
            "Train Loss: 1.5479, Val Loss: 2.1398, Val Accuracy: 50.78\n",
            "Epoch 66/100\n",
            "Train Loss: 1.5758, Val Loss: 2.1288, Val Accuracy: 49.80\n",
            "Epoch 67/100\n",
            "Train Loss: 1.5042, Val Loss: 2.1577, Val Accuracy: 49.71\n",
            "Epoch 68/100\n",
            "Train Loss: 1.4967, Val Loss: 2.1695, Val Accuracy: 49.02\n",
            "Epoch 69/100\n",
            "Train Loss: 1.4392, Val Loss: 2.1199, Val Accuracy: 50.78\n",
            "Epoch 70/100\n",
            "Train Loss: 1.4488, Val Loss: 2.0755, Val Accuracy: 49.61\n",
            "Epoch 71/100\n",
            "Train Loss: 1.4137, Val Loss: 2.0736, Val Accuracy: 51.57\n",
            "Epoch 72/100\n",
            "Train Loss: 1.4043, Val Loss: 2.0590, Val Accuracy: 51.76\n",
            "Epoch 73/100\n",
            "Train Loss: 1.4067, Val Loss: 2.1083, Val Accuracy: 50.10\n",
            "Epoch 74/100\n",
            "Train Loss: 1.3604, Val Loss: 2.0516, Val Accuracy: 52.06\n",
            "Epoch 75/100\n",
            "Train Loss: 1.3226, Val Loss: 2.1007, Val Accuracy: 49.31\n",
            "Epoch 76/100\n",
            "Train Loss: 1.3268, Val Loss: 2.0686, Val Accuracy: 50.88\n",
            "Epoch 77/100\n",
            "Train Loss: 1.3036, Val Loss: 2.0633, Val Accuracy: 51.27\n",
            "Early stopping\n",
            "Training took: 29.64 minutes!\n"
          ]
        }
      ],
      "source": [
        "# Training\n",
        "epochs = 100\n",
        "start = time.time()\n",
        "best_val_loss = float('inf')\n",
        "patience = 3\n",
        "counter = 0\n",
        "\n",
        "for epoch in range(epochs):\n",
        "    print(f\"Epoch {epoch+1}/{epochs}\")\n",
        "    train_loss = train_loop(train_dataloader, model, loss_fn, optimizer, device)\n",
        "    val_loss, val_accuracy = val_loop(val_dataloader, model, loss_fn, device)\n",
        "\n",
        "    print(f\"Train Loss: {train_loss:.4f}, Val Loss: {val_loss:.4f}, Val Accuracy: {val_accuracy:.2f}\")\n",
        "\n",
        "    # Adjust learning rate based on validation loss\n",
        "    scheduler.step(val_loss)\n",
        "\n",
        "    # Early stopping\n",
        "    if val_loss < best_val_loss:\n",
        "        best_val_loss = val_loss\n",
        "        counter = 0\n",
        "    else:\n",
        "        counter += 1\n",
        "        if counter >= patience:\n",
        "            print(\"Early stopping\")\n",
        "            break\n",
        "\n",
        "end = time.time()\n",
        "print(f\"Training took: {(end - start) / 60:.2f} minutes!\")"
      ]
    }
  ],
  "metadata": {
    "accelerator": "GPU",
    "colab": {
      "gpuType": "T4",
      "machine_shape": "hm",
      "provenance": []
    },
    "kernelspec": {
      "display_name": "Python 3",
      "name": "python3"
    },
    "language_info": {
      "name": "python"
    },
    "vp": {
      "vp_note_display": false,
      "vp_note_width": 0,
      "vp_section_display": false
    }
  },
  "nbformat": 4,
  "nbformat_minor": 0
}